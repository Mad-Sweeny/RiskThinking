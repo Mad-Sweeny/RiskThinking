{
 "cells": [
  {
   "cell_type": "code",
   "execution_count": 1,
   "id": "a825cddd",
   "metadata": {},
   "outputs": [],
   "source": [
    "import findspark\n",
    "findspark.init()"
   ]
  },
  {
   "cell_type": "code",
   "execution_count": 2,
   "id": "f98a586e",
   "metadata": {},
   "outputs": [],
   "source": [
    "from pyspark.sql import SparkSession\n",
    "from pyspark.sql import functions as F\n",
    "from pyspark.sql.types import *\n",
    "from pyspark.sql.window import Window\n",
    "\n",
    "import pandas as pd\n",
    "import numpy as np"
   ]
  },
  {
   "cell_type": "code",
   "execution_count": 3,
   "id": "cdad3386",
   "metadata": {},
   "outputs": [],
   "source": [
    "spark = SparkSession.builder.appName('Feature Engineering').getOrCreate()"
   ]
  },
  {
   "cell_type": "code",
   "execution_count": 4,
   "id": "93dc2948",
   "metadata": {},
   "outputs": [],
   "source": [
    "df_market_data = spark.read.parquet(r'..\\data\\processed_output.parquet') "
   ]
  },
  {
   "cell_type": "code",
   "execution_count": 5,
   "id": "3eca836c",
   "metadata": {},
   "outputs": [],
   "source": [
    "df_market_data = df_market_data.withColumn('unix_time',F.unix_timestamp('Date','yyyy-MM-dd'))"
   ]
  },
  {
   "cell_type": "code",
   "execution_count": 6,
   "id": "5955df30",
   "metadata": {},
   "outputs": [],
   "source": [
    "w = (Window().partitionBy('Symbol').orderBy('Unix_time').rowsBetween(-30,0))\n",
    "\n",
    "sum_udf = F.udf(lambda x: int(np.sum(x)),IntegerType())\n",
    "\n",
    "df_market_data = df_market_data.withColumn('prev_vols_vals',F.array(F.collect_list('Volume').over(w)))\\\n",
    "                .withColumn('prev_vals_size',F.size(F.collect_list('Volume').over(w)))\\\n",
    "                .withColumn('vol_moving_avg',F.when(F.col('prev_vals_size') > 30, F.round(sum_udf('prev_vols_vals')/30)))"
   ]
  },
  {
   "cell_type": "code",
   "execution_count": 7,
   "id": "b18c87bb",
   "metadata": {},
   "outputs": [],
   "source": [
    "def calc_median(x):\n",
    "    x = np.sort(x)\n",
    "    return float(sum(x[0][13:15]))\n",
    "\n",
    "calc_median_udf = F.udf(lambda x: calc_median(x), FloatType())\n",
    "\n",
    "df_market_data = df_market_data.withColumn('prev_adj_close_vals',F.array(F.collect_list('Adj_Close').over(w)))\\\n",
    "                .withColumn('adj_close_rolling_med',F.when(F.col('prev_vals_size') > 30, F.round(calc_median_udf('prev_adj_close_vals')/2,4))) "
   ]
  },
  {
   "cell_type": "code",
   "execution_count": 8,
   "id": "de45b3ad",
   "metadata": {},
   "outputs": [],
   "source": [
    "df_market_data\\\n",
    "    .select('Symbol','Security_Name','Date','Open','High','Low','Close','Adj_Close','Volume','vol_moving_avg','adj_close_rolling_med')\\\n",
    "    .coalesce(1)\\\n",
    "    .write\\\n",
    "    .format('parquet')\\\n",
    "    .mode('overwrite')\\\n",
    "    .save(r'..\\data\\feature_engineering_output.parquet')"
   ]
  },
  {
   "cell_type": "code",
   "execution_count": 9,
   "id": "97f07e1f",
   "metadata": {},
   "outputs": [],
   "source": [
    "# df_market_data.select('Date','adj_close_rolling_med','vol_moving_avg').show(35)"
   ]
  },
  {
   "cell_type": "code",
   "execution_count": 9,
   "id": "cdcedf87",
   "metadata": {},
   "outputs": [],
   "source": [
    "spark.stop()"
   ]
  }
 ],
 "metadata": {
  "kernelspec": {
   "display_name": "Python 3",
   "language": "python",
   "name": "python3"
  },
  "language_info": {
   "codemirror_mode": {
    "name": "ipython",
    "version": 3
   },
   "file_extension": ".py",
   "mimetype": "text/x-python",
   "name": "python",
   "nbconvert_exporter": "python",
   "pygments_lexer": "ipython3",
   "version": "3.8.8"
  }
 },
 "nbformat": 4,
 "nbformat_minor": 5
}
