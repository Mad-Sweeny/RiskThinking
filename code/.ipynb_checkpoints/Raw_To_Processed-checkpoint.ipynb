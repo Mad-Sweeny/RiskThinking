{
 "cells": [
  {
   "cell_type": "code",
   "execution_count": 1,
   "id": "81cfb0cc",
   "metadata": {},
   "outputs": [],
   "source": [
    "import findspark\n",
    "findspark.init()"
   ]
  },
  {
   "cell_type": "code",
   "execution_count": 2,
   "id": "4e9e6759",
   "metadata": {},
   "outputs": [],
   "source": [
    "from pyspark.sql import SparkSession\n",
    "from pyspark.sql.functions import *\n",
    "from pyspark.sql.types import *"
   ]
  },
  {
   "cell_type": "code",
   "execution_count": 3,
   "id": "b9f6e4db",
   "metadata": {},
   "outputs": [],
   "source": [
    "spark = SparkSession.builder.appName('Pre-processing').getOrCreate()"
   ]
  },
  {
   "cell_type": "code",
   "execution_count": 4,
   "id": "75f914b6",
   "metadata": {},
   "outputs": [],
   "source": [
    "regex_str = \"([^\\/]+)$\"\n",
    "schema = StructType([\\\n",
    "                     StructField('Date',DateType(),True),\\\n",
    "                     StructField('Open',FloatType(),True),\\\n",
    "                     StructField('High',FloatType(),True),\\\n",
    "                     StructField('Low',FloatType(),True),\\\n",
    "                     StructField('Close',FloatType(),True),\\\n",
    "                     StructField('Adj_Close',FloatType(),True),\\\n",
    "                     StructField('Volume',IntegerType(),True),\\\n",
    "                     StructField('Symbol',StringType(),True)\n",
    "                    ])"
   ]
  },
  {
   "cell_type": "code",
   "execution_count": 5,
   "id": "8e95a7a7",
   "metadata": {},
   "outputs": [],
   "source": [
    "df_stocks = spark.read.format('csv').option('header',True).schema(schema).load(r'..\\data\\stocks\\A.csv')\\\n",
    "                      .withColumn('Symbol',regexp_replace(regexp_extract(input_file_name(),regex_str,1),'.csv',''))   \n",
    "# df_stocks.show(5)\n",
    "\n",
    "df_etfs = spark.read.format('csv').option('header',True).schema(schema).load(r'..\\data\\etfs\\AAAU.csv')\\\n",
    "                      .withColumn('Symbol',regexp_replace(regexp_extract(input_file_name(),regex_str,1),'.csv',''))   \n",
    "# df_etfs.show(5)\n",
    "\n",
    "df_market_data = df_stocks.unionAll(df_etfs)"
   ]
  },
  {
   "cell_type": "code",
   "execution_count": 6,
   "id": "8dd47664",
   "metadata": {},
   "outputs": [],
   "source": [
    "df_symbols = spark.read.csv(r'..\\data\\symbols_valid_meta.csv',header=True).select('Symbol','Security Name')\\\n",
    "                .withColumnRenamed('Security Name','Security_Name')\n",
    "# df_symbols.show(5)"
   ]
  },
  {
   "cell_type": "code",
   "execution_count": 7,
   "id": "8b55c4bd",
   "metadata": {},
   "outputs": [],
   "source": [
    "df_processed = df_market_data.join(broadcast(df_symbols), how = 'inner', on = df_stocks.Symbol == df_symbols.Symbol)\\\n",
    "                .select(df_stocks.Symbol,\n",
    "                        df_symbols.Security_Name,\n",
    "                        df_stocks.Date,\n",
    "                        df_stocks.Open,\n",
    "                        df_stocks.High,\n",
    "                        df_stocks.Low,\n",
    "                        df_stocks.Close,\n",
    "                        df_stocks.Adj_Close,\n",
    "                        df_stocks.Volume)\n",
    "# df_processed.show(5)"
   ]
  },
  {
   "cell_type": "code",
   "execution_count": 8,
   "id": "b5a3b5da",
   "metadata": {},
   "outputs": [],
   "source": [
    "df_processed.coalesce(1).write.mode('overwrite').save(r'..\\data\\processed_output.parquet')"
   ]
  },
  {
   "cell_type": "code",
   "execution_count": 9,
   "id": "63d2f56b",
   "metadata": {},
   "outputs": [],
   "source": [
    "spark.stop()"
   ]
  },
  {
   "cell_type": "code",
   "execution_count": null,
   "id": "f5c1e5df",
   "metadata": {},
   "outputs": [],
   "source": []
  }
 ],
 "metadata": {
  "kernelspec": {
   "display_name": "Python 3",
   "language": "python",
   "name": "python3"
  },
  "language_info": {
   "codemirror_mode": {
    "name": "ipython",
    "version": 3
   },
   "file_extension": ".py",
   "mimetype": "text/x-python",
   "name": "python",
   "nbconvert_exporter": "python",
   "pygments_lexer": "ipython3",
   "version": "3.8.8"
  }
 },
 "nbformat": 4,
 "nbformat_minor": 5
}
