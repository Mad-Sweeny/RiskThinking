{
 "cells": [
  {
   "cell_type": "code",
   "execution_count": null,
   "id": "5ba685f7",
   "metadata": {},
   "outputs": [],
   "source": [
    "from flask import Flask, jsonify, request\n",
    "import pickle\n",
    "import numpy as np\n",
    "import json\n",
    "\n",
    "app = Flask(__name__)\n",
    "with open(r'..\\trained_model\\random_forest_regressor_model.pkl','rb') as f:\n",
    "    model = pickle.load(f)\n",
    "# model = pickle.load(r'..\\trained_model\\random_forest_regressor_model.pkl')\n",
    "\n",
    "\n",
    "@app.route('/predict')\n",
    "def predict():\n",
    "    vol_moving_avg = request.args.get('vol_moving_avg')\n",
    "    adj_close_rolling_med = request.args.get('adj_close_rolling_med')\n",
    "    features = [vol_moving_avg,adj_close_rolling_med]\n",
    "    \n",
    "    predictions = model.predict([features])[0]\n",
    "    \n",
    "    return jsonify({'predictions' : predictions})   \n",
    "\n",
    "if __name__ == '__main__':\n",
    "    app.run(debug=True)"
   ]
  },
  {
   "cell_type": "code",
   "execution_count": null,
   "id": "698783db",
   "metadata": {},
   "outputs": [],
   "source": [
    "import requests\n",
    "response = requests.get('http://127.0.0.1:5000/predict?vol_moving_avg={}&adj_close_rolling_med={}'.format(12345,25))\n",
    "response.json()"
   ]
  },
  {
   "cell_type": "code",
   "execution_count": null,
   "id": "177bbf4b",
   "metadata": {},
   "outputs": [],
   "source": []
  }
 ],
 "metadata": {
  "kernelspec": {
   "display_name": "Python 3",
   "language": "python",
   "name": "python3"
  },
  "language_info": {
   "codemirror_mode": {
    "name": "ipython",
    "version": 3
   },
   "file_extension": ".py",
   "mimetype": "text/x-python",
   "name": "python",
   "nbconvert_exporter": "python",
   "pygments_lexer": "ipython3",
   "version": "3.8.8"
  }
 },
 "nbformat": 4,
 "nbformat_minor": 5
}
