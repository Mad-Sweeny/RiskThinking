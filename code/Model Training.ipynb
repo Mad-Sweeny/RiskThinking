{
 "cells": [
  {
   "cell_type": "code",
   "execution_count": 1,
   "id": "670c1dd2",
   "metadata": {},
   "outputs": [],
   "source": [
    "import findspark\n",
    "findspark.init()"
   ]
  },
  {
   "cell_type": "code",
   "execution_count": 2,
   "id": "d56c0721",
   "metadata": {},
   "outputs": [],
   "source": [
    "from pyspark.sql import SparkSession\n",
    "from pyspark.sql import functions as F\n",
    "from pyspark.sql.types import *\n",
    "from pyspark.sql.window import Window\n",
    "\n",
    "import pandas as pd\n",
    "import numpy as np\n",
    "\n",
    "from sklearn.model_selection import train_test_split\n",
    "from sklearn.ensemble import RandomForestRegressor\n",
    "from sklearn.preprocessing import StandardScaler\n",
    "from sklearn.metrics import mean_absolute_error, mean_squared_error\n",
    "import pickle"
   ]
  },
  {
   "cell_type": "code",
   "execution_count": 3,
   "id": "275c414b",
   "metadata": {},
   "outputs": [],
   "source": [
    "spark = SparkSession.builder.appName('Model Training').getOrCreate()"
   ]
  },
  {
   "cell_type": "code",
   "execution_count": 4,
   "id": "00476799",
   "metadata": {},
   "outputs": [],
   "source": [
    "df_fe_data = spark.read.parquet(r'..\\data\\feature_engineering_output.parquet').select('Date','Volume','vol_moving_avg', 'adj_close_rolling_med')"
   ]
  },
  {
   "cell_type": "code",
   "execution_count": 5,
   "id": "4577147e",
   "metadata": {},
   "outputs": [],
   "source": [
    "data = df_fe_data.toPandas()\n",
    "\n",
    "data['Date'] = pd.to_datetime(data['Date'])\n",
    "data.set_index('Date', inplace=True)"
   ]
  },
  {
   "cell_type": "code",
   "execution_count": null,
   "id": "8ee16da2",
   "metadata": {},
   "outputs": [],
   "source": [
    "# (data.isnull().sum()/data.shape[0])*100"
   ]
  },
  {
   "cell_type": "code",
   "execution_count": 6,
   "id": "ba7b65bc",
   "metadata": {},
   "outputs": [],
   "source": [
    "data.dropna(inplace=True)"
   ]
  },
  {
   "cell_type": "code",
   "execution_count": 7,
   "id": "b568e1c4",
   "metadata": {},
   "outputs": [],
   "source": [
    "features = ['vol_moving_avg', 'adj_close_rolling_med']\n",
    "target = 'Volume'\n",
    "\n",
    "X = pd.DataFrame(data[features])\n",
    "y = pd.DataFrame(data[target])\n",
    "\n",
    "X_train, X_test, y_train, y_test = train_test_split(X, y, test_size=0.2, random_state=42)"
   ]
  },
  {
   "cell_type": "code",
   "execution_count": 8,
   "id": "39afa58d",
   "metadata": {},
   "outputs": [
    {
     "name": "stderr",
     "output_type": "stream",
     "text": [
      "<ipython-input-8-25f9d51f7eb1>:11: SettingWithCopyWarning: \n",
      "A value is trying to be set on a copy of a slice from a DataFrame.\n",
      "Try using .loc[row_indexer,col_indexer] = value instead\n",
      "\n",
      "See the caveats in the documentation: https://pandas.pydata.org/pandas-docs/stable/user_guide/indexing.html#returning-a-view-versus-a-copy\n",
      "  y_train['scaled_volume'] = y_train_scaled\n",
      "<ipython-input-8-25f9d51f7eb1>:14: SettingWithCopyWarning: \n",
      "A value is trying to be set on a copy of a slice from a DataFrame.\n",
      "Try using .loc[row_indexer,col_indexer] = value instead\n",
      "\n",
      "See the caveats in the documentation: https://pandas.pydata.org/pandas-docs/stable/user_guide/indexing.html#returning-a-view-versus-a-copy\n",
      "  y_test['scaled_volume'] = y_test_scaled\n"
     ]
    }
   ],
   "source": [
    "scaler_x = StandardScaler()\n",
    "scaler_y = StandardScaler()\n",
    "\n",
    "X_train_scaled = scaler_x.fit_transform(X_train.values)\n",
    "X_train_scaled = pd.DataFrame(X_train_scaled,index=X_train.index,columns=features)\n",
    "\n",
    "X_test_scaled = scaler_x.transform(X_test.values)\n",
    "X_test_scaled = pd.DataFrame(X_test_scaled,index=X_test.index,columns=features)\n",
    "\n",
    "y_train_scaled = scaler_y.fit_transform(y_train.values.reshape(-1,1))\n",
    "y_train['scaled_volume'] = y_train_scaled\n",
    "\n",
    "y_test_scaled = scaler_y.transform(y_test.values.reshape(-1,1))\n",
    "y_test['scaled_volume'] = y_test_scaled"
   ]
  },
  {
   "cell_type": "code",
   "execution_count": 9,
   "id": "3db3094f",
   "metadata": {},
   "outputs": [
    {
     "data": {
      "text/plain": [
       "RandomForestRegressor(random_state=42)"
      ]
     },
     "execution_count": 9,
     "metadata": {},
     "output_type": "execute_result"
    }
   ],
   "source": [
    "# Create a RandomForestRegressor model\n",
    "model = RandomForestRegressor(n_estimators=100, random_state=42)\n",
    "\n",
    "# Train the model\n",
    "model.fit(X_train, y_train['scaled_volume'])"
   ]
  },
  {
   "cell_type": "code",
   "execution_count": 10,
   "id": "bf48cc5d",
   "metadata": {},
   "outputs": [
    {
     "name": "stdout",
     "output_type": "stream",
     "text": [
      "Mean Absolute Error is 0.5004576307566186 and Mean squared Error is 0.8840711285259968\n"
     ]
    }
   ],
   "source": [
    "# Make predictions on test data\n",
    "y_pred = model.predict(X_test)\n",
    "\n",
    "# Calculate the Mean Absolute Error and Mean Squared Error\n",
    "mae = mean_absolute_error(y_test['scaled_volume'], y_pred)\n",
    "mse = mean_squared_error(y_test['scaled_volume'], y_pred)\n",
    "\n",
    "print('Mean Absolute Error is {} and Mean squared Error is {}'.format(mae,mse))"
   ]
  },
  {
   "cell_type": "code",
   "execution_count": null,
   "id": "73a889ad",
   "metadata": {},
   "outputs": [],
   "source": [
    "# Saving trained model to disk\n",
    "filename = r'..\\trained_model\\random_forest_regressor_model.pkl'\n",
    "with open(filename, 'wb') as file:\n",
    "    pickle.dump(model, file)"
   ]
  },
  {
   "cell_type": "code",
   "execution_count": null,
   "id": "3711bb5a",
   "metadata": {},
   "outputs": [],
   "source": []
  }
 ],
 "metadata": {
  "kernelspec": {
   "display_name": "Python 3",
   "language": "python",
   "name": "python3"
  },
  "language_info": {
   "codemirror_mode": {
    "name": "ipython",
    "version": 3
   },
   "file_extension": ".py",
   "mimetype": "text/x-python",
   "name": "python",
   "nbconvert_exporter": "python",
   "pygments_lexer": "ipython3",
   "version": "3.8.8"
  }
 },
 "nbformat": 4,
 "nbformat_minor": 5
}
